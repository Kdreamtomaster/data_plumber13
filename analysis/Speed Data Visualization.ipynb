{
 "cells": [
  {
   "cell_type": "markdown",
   "id": "70b7021d-1e89-441e-aa11-a5335171b584",
   "metadata": {},
   "source": [
    "## 서울시 자율주행 차량 속도 및 위치 분석"
   ]
  },
  {
   "cell_type": "markdown",
   "id": "4f754004-8023-4c63-ae1b-cc5a638b6722",
   "metadata": {},
   "source": [
    "### 1. 패키지 추가"
   ]
  },
  {
   "cell_type": "code",
   "execution_count": 3,
   "id": "55e1016c-9b18-4ef2-8173-89d670ecf3e9",
   "metadata": {},
   "outputs": [],
   "source": [
    "import pandas as pd\n",
    "import glob\n",
    "import os"
   ]
  },
  {
   "cell_type": "markdown",
   "id": "0a7584e7-1d9f-4b2a-827d-17fe1fc90bb8",
   "metadata": {},
   "source": [
    "### 2. csv 파일 로드"
   ]
  },
  {
   "cell_type": "code",
   "execution_count": 59,
   "id": "468c0cba-570e-4be9-8ae8-52eb1ff60997",
   "metadata": {},
   "outputs": [],
   "source": [
    "path = \"/home/ubuntu/work/data/car_info\"\n",
    "full_path = os.path.join(path + \"/*.csv\")\n",
    "all_files = glob.glob(full_path)\n",
    "\n",
    "data_list = [pd.read_csv(file, index_col=None, header=0) for file in all_files]\n",
    "data_frame = pd.concat(data_list, axis=0, ignore_index=True)"
   ]
  },
  {
   "cell_type": "markdown",
   "id": "c3095888-3b73-4bd2-af8a-6acad89b02aa",
   "metadata": {},
   "source": [
    "### 3. 분석"
   ]
  },
  {
   "cell_type": "markdown",
   "id": "7819b3cc-aef5-455a-b7b4-7b6dfca62f21",
   "metadata": {},
   "source": [
    "#### 3.1 전체 평균 속도"
   ]
  },
  {
   "cell_type": "code",
   "execution_count": 61,
   "id": "aa04228d-971b-4bf3-a430-b65c283bbfe0",
   "metadata": {},
   "outputs": [],
   "source": [
    "df = pd.DataFrame(data_frame.groupby(\"vhcleTypeCd\")[\"vhcleSped\"].mean())\n",
    "\n",
    "df_renamed = df.rename(\n",
    "    index = {\n",
    "        9217: \"기타\",\n",
    "        9228: \"버스\"\n",
    "    }\n",
    ")\n",
    "df_renamed.columns = [\"평균 속도\"]"
   ]
  },
  {
   "cell_type": "code",
   "execution_count": 49,
   "id": "fe0ebc67-c93f-4ac8-a34d-bc51a4f8e7ac",
   "metadata": {},
   "outputs": [
    {
     "data": {
      "text/html": [
       "<div>\n",
       "<style scoped>\n",
       "    .dataframe tbody tr th:only-of-type {\n",
       "        vertical-align: middle;\n",
       "    }\n",
       "\n",
       "    .dataframe tbody tr th {\n",
       "        vertical-align: top;\n",
       "    }\n",
       "\n",
       "    .dataframe thead th {\n",
       "        text-align: right;\n",
       "    }\n",
       "</style>\n",
       "<table border=\"1\" class=\"dataframe\">\n",
       "  <thead>\n",
       "    <tr style=\"text-align: right;\">\n",
       "      <th></th>\n",
       "      <th>평균 속도</th>\n",
       "    </tr>\n",
       "    <tr>\n",
       "      <th>vhcleTypeCd</th>\n",
       "      <th></th>\n",
       "    </tr>\n",
       "  </thead>\n",
       "  <tbody>\n",
       "    <tr>\n",
       "      <th>버스</th>\n",
       "      <td>10.676145</td>\n",
       "    </tr>\n",
       "    <tr>\n",
       "      <th>기타</th>\n",
       "      <td>0.000000</td>\n",
       "    </tr>\n",
       "  </tbody>\n",
       "</table>\n",
       "</div>"
      ],
      "text/plain": [
       "                 평균 속도\n",
       "vhcleTypeCd           \n",
       "버스           10.676145\n",
       "기타            0.000000"
      ]
     },
     "execution_count": 49,
     "metadata": {},
     "output_type": "execute_result"
    }
   ],
   "source": [
    "df_renamed.sort_values(\"평균 속도\", axis=0, ascending=False)"
   ]
  },
  {
   "cell_type": "markdown",
   "id": "38ec8729-bb14-41df-adb4-6c208104b206",
   "metadata": {},
   "source": [
    "#### 3.2 전체 최대 속도"
   ]
  },
  {
   "cell_type": "code",
   "execution_count": 66,
   "id": "b6195b52-15cd-4b2c-bc95-c442a78f6746",
   "metadata": {},
   "outputs": [],
   "source": [
    "df = pd.DataFrame(data_frame.groupby(\"vhcleTypeCd\")[\"vhcleSped\"].max())\n",
    "\n",
    "df_renamed = df.rename(\n",
    "    index = {\n",
    "        9217: \"기타\",\n",
    "        9228: \"버스\"\n",
    "    }\n",
    ")\n",
    "df_renamed.columns = [\"최대 속도\"]"
   ]
  },
  {
   "cell_type": "code",
   "execution_count": 67,
   "id": "6a9f4e95-ce25-42f4-bee6-1ba9fb44ce9a",
   "metadata": {},
   "outputs": [
    {
     "data": {
      "text/html": [
       "<div>\n",
       "<style scoped>\n",
       "    .dataframe tbody tr th:only-of-type {\n",
       "        vertical-align: middle;\n",
       "    }\n",
       "\n",
       "    .dataframe tbody tr th {\n",
       "        vertical-align: top;\n",
       "    }\n",
       "\n",
       "    .dataframe thead th {\n",
       "        text-align: right;\n",
       "    }\n",
       "</style>\n",
       "<table border=\"1\" class=\"dataframe\">\n",
       "  <thead>\n",
       "    <tr style=\"text-align: right;\">\n",
       "      <th></th>\n",
       "      <th>최대 속도</th>\n",
       "    </tr>\n",
       "    <tr>\n",
       "      <th>vhcleTypeCd</th>\n",
       "      <th></th>\n",
       "    </tr>\n",
       "  </thead>\n",
       "  <tbody>\n",
       "    <tr>\n",
       "      <th>버스</th>\n",
       "      <td>254.0</td>\n",
       "    </tr>\n",
       "    <tr>\n",
       "      <th>기타</th>\n",
       "      <td>0.0</td>\n",
       "    </tr>\n",
       "  </tbody>\n",
       "</table>\n",
       "</div>"
      ],
      "text/plain": [
       "             최대 속도\n",
       "vhcleTypeCd       \n",
       "버스           254.0\n",
       "기타             0.0"
      ]
     },
     "execution_count": 67,
     "metadata": {},
     "output_type": "execute_result"
    }
   ],
   "source": [
    "df_renamed.sort_values(\"최대 속도\", axis=0, ascending=False)"
   ]
  },
  {
   "cell_type": "markdown",
   "id": "9732089f-b807-4230-8f3a-b2fefc5100f3",
   "metadata": {},
   "source": [
    "### 3.2 수집 차량 수"
   ]
  },
  {
   "cell_type": "code",
   "execution_count": 90,
   "id": "c7b341ab-f621-435a-8bce-c97954bc9458",
   "metadata": {},
   "outputs": [],
   "source": [
    "total_count_data = data_frame.groupby(\"addr\").count()\n",
    "total_count_data[\"addr\"] = total_count_data.index.tolist()\n",
    "total_count_data = total_count_data.loc[:, [\"vhcleTypeCd\"]]\n",
    "total_count_data = total_count_data.sort_values(by=['vhcleTypeCd'], axis=0, ascending=False)"
   ]
  },
  {
   "cell_type": "code",
   "execution_count": 91,
   "id": "e68a947a-3133-4414-beaf-59d4ee7e02af",
   "metadata": {},
   "outputs": [],
   "source": [
    "total_count_data.columns = [\"차량 대수\"]"
   ]
  },
  {
   "cell_type": "code",
   "execution_count": 92,
   "id": "1346559b-26b8-4214-9333-3dc97a81a472",
   "metadata": {},
   "outputs": [],
   "source": [
    "total_count_data.index.name = \"행정구\""
   ]
  },
  {
   "cell_type": "code",
   "execution_count": 95,
   "id": "7ea7137c-9730-415b-a2da-e21ffdeec0a5",
   "metadata": {},
   "outputs": [
    {
     "data": {
      "text/html": [
       "<div>\n",
       "<style scoped>\n",
       "    .dataframe tbody tr th:only-of-type {\n",
       "        vertical-align: middle;\n",
       "    }\n",
       "\n",
       "    .dataframe tbody tr th {\n",
       "        vertical-align: top;\n",
       "    }\n",
       "\n",
       "    .dataframe thead th {\n",
       "        text-align: right;\n",
       "    }\n",
       "</style>\n",
       "<table border=\"1\" class=\"dataframe\">\n",
       "  <thead>\n",
       "    <tr style=\"text-align: right;\">\n",
       "      <th></th>\n",
       "      <th>차량 대수</th>\n",
       "    </tr>\n",
       "    <tr>\n",
       "      <th>행정구</th>\n",
       "      <th></th>\n",
       "    </tr>\n",
       "  </thead>\n",
       "  <tbody>\n",
       "    <tr>\n",
       "      <th>종로구</th>\n",
       "      <td>2366</td>\n",
       "    </tr>\n",
       "    <tr>\n",
       "      <th>서대문구</th>\n",
       "      <td>1874</td>\n",
       "    </tr>\n",
       "    <tr>\n",
       "      <th>마포구</th>\n",
       "      <td>1823</td>\n",
       "    </tr>\n",
       "    <tr>\n",
       "      <th>은평구</th>\n",
       "      <td>1710</td>\n",
       "    </tr>\n",
       "    <tr>\n",
       "      <th>중구</th>\n",
       "      <td>1552</td>\n",
       "    </tr>\n",
       "    <tr>\n",
       "      <th>서초구</th>\n",
       "      <td>1551</td>\n",
       "    </tr>\n",
       "    <tr>\n",
       "      <th>성북구</th>\n",
       "      <td>1325</td>\n",
       "    </tr>\n",
       "    <tr>\n",
       "      <th>강남구</th>\n",
       "      <td>1294</td>\n",
       "    </tr>\n",
       "  </tbody>\n",
       "</table>\n",
       "</div>"
      ],
      "text/plain": [
       "      차량 대수\n",
       "행정구        \n",
       "종로구    2366\n",
       "서대문구   1874\n",
       "마포구    1823\n",
       "은평구    1710\n",
       "중구     1552\n",
       "서초구    1551\n",
       "성북구    1325\n",
       "강남구    1294"
      ]
     },
     "execution_count": 95,
     "metadata": {},
     "output_type": "execute_result"
    }
   ],
   "source": [
    "total_count_data.head(8)"
   ]
  }
 ],
 "metadata": {
  "kernelspec": {
   "display_name": "Python 3 (ipykernel)",
   "language": "python",
   "name": "python3"
  },
  "language_info": {
   "codemirror_mode": {
    "name": "ipython",
    "version": 3
   },
   "file_extension": ".py",
   "mimetype": "text/x-python",
   "name": "python",
   "nbconvert_exporter": "python",
   "pygments_lexer": "ipython3",
   "version": "3.11.9"
  }
 },
 "nbformat": 4,
 "nbformat_minor": 5
}
